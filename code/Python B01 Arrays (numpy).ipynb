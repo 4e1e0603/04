{
 "cells": [
  {
   "cell_type": "markdown",
   "metadata": {},
   "source": [
    "# NumPy package.\n",
    "\n",
    "## Overview\n",
    "\n",
    "The `numpy` package implements a multi-dimensional array type (`ndarray`) with set of methods and functions. The array type is implemented in C programming langugage and numerical optimizations as vectorization is used to speed up the code. \n",
    "\n",
    "Sometimes it is much faster to do a computation with `numpy` if the size of the array is large but generally `numpy` doesn't magicaly speedup your code. Before you start to change every code you had written to this day, remember that often a simple types and functions from `math` and `statistics` packages from standard library are good enough.\n",
    "\n",
    "> We should forget about small efficiencies, say about 97% of the time: __premature optimization is the root of all evil.__<br>\n",
    "> &mdash; D. Knuth in [_Structured Programming With Go To Statements_](https://pic.plover.com/knuth-GOTO.pdf)"
   ]
  },
  {
   "cell_type": "markdown",
   "metadata": {},
   "source": [
    "The `numpy` package is usually abreviated as `np` when imported. You wiil see this in many examples and tutorials and we will stick with this convetion in all the examples."
   ]
  },
  {
   "cell_type": "code",
   "execution_count": null,
   "metadata": {},
   "outputs": [],
   "source": [
    "import numpy as np"
   ]
  },
  {
   "cell_type": "markdown",
   "metadata": {},
   "source": [
    "## The 1-dimensional array"
   ]
  },
  {
   "cell_type": "code",
   "execution_count": null,
   "metadata": {},
   "outputs": [],
   "source": [
    "data = np.array([1, 2, 3])\n",
    "type(data)"
   ]
  },
  {
   "cell_type": "code",
   "execution_count": null,
   "metadata": {},
   "outputs": [],
   "source": [
    "data.ndim"
   ]
  },
  {
   "cell_type": "markdown",
   "metadata": {},
   "source": [
    "The shape property returns the tuple with dimensions for each axis. In our example the tuple has only one element because we created a one dimensioanl array with one axis and the dimension this axis is three."
   ]
  },
  {
   "cell_type": "code",
   "execution_count": null,
   "metadata": {},
   "outputs": [],
   "source": [
    "data.shape"
   ]
  },
  {
   "cell_type": "code",
   "execution_count": null,
   "metadata": {},
   "outputs": [],
   "source": [
    "data = np.array([1, 2, 3, 4, 5])"
   ]
  },
  {
   "cell_type": "code",
   "execution_count": null,
   "metadata": {},
   "outputs": [],
   "source": [
    "data.ndim"
   ]
  },
  {
   "cell_type": "code",
   "execution_count": null,
   "metadata": {},
   "outputs": [],
   "source": [
    "data.shape"
   ]
  },
  {
   "cell_type": "code",
   "execution_count": null,
   "metadata": {},
   "outputs": [],
   "source": [
    "#help(data)"
   ]
  },
  {
   "cell_type": "markdown",
   "metadata": {},
   "source": [
    "We will create a two dimensioanl arrar which implies that it has a two axis."
   ]
  },
  {
   "cell_type": "code",
   "execution_count": null,
   "metadata": {},
   "outputs": [],
   "source": [
    "data = np.array([[1, 2]])"
   ]
  },
  {
   "cell_type": "code",
   "execution_count": null,
   "metadata": {},
   "outputs": [],
   "source": [
    "data.ndim"
   ]
  },
  {
   "cell_type": "code",
   "execution_count": null,
   "metadata": {},
   "outputs": [],
   "source": [
    "data.shape"
   ]
  },
  {
   "cell_type": "markdown",
   "metadata": {},
   "source": [
    "## The 2-dimensional data\n",
    "\n",
    "## The 3-dimensional data\n",
    "\n",
    "## The N-dimensional data"
   ]
  },
  {
   "cell_type": "markdown",
   "metadata": {},
   "source": [
    "# Přebrat"
   ]
  },
  {
   "cell_type": "code",
   "execution_count": null,
   "metadata": {},
   "outputs": [],
   "source": [
    "# Modify the elements of a np 2D- array at specific locations without for loop.\n",
    "\n",
    "# - Jak vytvořit kopii pole\n",
    "# - Jak změnit prvek pole\n",
    "\n",
    "u = np.array([1, 2, 3])\n",
    "v = np.array([1, 2, 3])\n",
    "\n",
    "print(\n",
    "(u + v),\n",
    "(u - v),\n",
    "(u * v),\n",
    "(u ** v),\n",
    ")\n",
    "\n",
    "# -----------------------------------------------------------------------------\n",
    "# Vytvoř 1-dimenzionálního pole se zadanými hodnotami.\n",
    "# -----------------------------------------------------------------------------\n",
    "\n",
    "a = [11,12,21,22]\n",
    "print(a)\n",
    "print(len(a))\n",
    "\n",
    "## Vytvořeni více-dimenzionálního pole\n",
    "\n",
    "# -----------------------------------------------------------------------------\n",
    "# Vytvoř 2-dimenzionálního pole kopírováním prvků zadaného sekvence.\n",
    "# -----------------------------------------------------------------------------\n",
    "\n",
    "b1 = np.array( [1, 2, 3] ) # list\n",
    "b2 = np.array( (1, 2, 3) ) # tuple\n",
    "b3 = np.array( {1, 2, 3} ) # set\n",
    "\n",
    "print(b1)\n",
    "print(b2)\n",
    "print(b3)\n",
    "\n",
    "\n",
    "# Vytvoř 2D pole kopírováním prvků zadaného 1D pole.\n",
    "c = np.array(a).reshape(2,2)\n",
    "\n",
    "print(c)\n",
    "\n",
    "# Vytvoř 2D pole generováním (komprehenzí)\n",
    "a = np.array([[True for j in range(3)] for i in range(3)])\n",
    "print(a)\n",
    "\n",
    "a = np.array([True] * 9).reshape(3, 3)\n",
    "print(a)\n",
    "\n",
    "\n",
    "# -----------------------------------------------------------------------------\n",
    "\n",
    "# Skalární součin\n",
    "(u @ v)\n",
    "\n",
    "result = np.dot(\n",
    "\tnp.array([1, 2, 3]), \n",
    "\tnp.array([1, 2, 3])\n",
    "\t)\n",
    "\n",
    "# Jak spočíst skalární součin. \n",
    "\n",
    "A = [1, 2, 3]\n",
    "B = [1, 2, 3]\n",
    "\n",
    "# 1\n",
    "from operator import mul\n",
    "sum(map(mul, A, B))\n",
    "\n",
    "# 2\n",
    "sum([i*j for (i, j) in zip(A, B)])\n",
    "\n",
    "# 5\n",
    "scalar_product = lambda X, Y: sum(map(lambda x, y: x * y, X, Y))"
   ]
  },
  {
   "cell_type": "raw",
   "metadata": {},
   "source": [
    "!head "
   ]
  },
  {
   "cell_type": "code",
   "execution_count": 3,
   "metadata": {},
   "outputs": [
    {
     "data": {
      "text/plain": [
       "array([2, 3, 4, 5, 6, 7])"
      ]
     },
     "execution_count": 3,
     "metadata": {},
     "output_type": "execute_result"
    }
   ],
   "source": [
    "np.arange(2, 8, 1)"
   ]
  },
  {
   "cell_type": "code",
   "execution_count": 4,
   "metadata": {},
   "outputs": [
    {
     "data": {
      "text/plain": [
       "array([[5., 5., 5., 5., 5., 5.],\n",
       "       [5., 5., 5., 5., 5., 5.],\n",
       "       [5., 5., 5., 5., 5., 5.],\n",
       "       [5., 5., 5., 5., 5., 5.],\n",
       "       [5., 5., 5., 5., 5., 5.],\n",
       "       [5., 5., 5., 5., 5., 5.]])"
      ]
     },
     "execution_count": 4,
     "metadata": {},
     "output_type": "execute_result"
    }
   ],
   "source": [
    "5 * np.ones((6, 6))"
   ]
  },
  {
   "cell_type": "code",
   "execution_count": 5,
   "metadata": {},
   "outputs": [
    {
     "data": {
      "text/plain": [
       "array([1, 2, 3, 5, 8])"
      ]
     },
     "execution_count": 5,
     "metadata": {},
     "output_type": "execute_result"
    }
   ],
   "source": [
    "a = np.array([1, 2, 3, 5, 8])\n",
    "a"
   ]
  },
  {
   "cell_type": "code",
   "execution_count": 6,
   "metadata": {},
   "outputs": [
    {
     "data": {
      "text/plain": [
       "array([2, 3, 4, 6, 9])"
      ]
     },
     "execution_count": 6,
     "metadata": {},
     "output_type": "execute_result"
    }
   ],
   "source": [
    "a = a + 1\n",
    "a"
   ]
  },
  {
   "cell_type": "code",
   "execution_count": 7,
   "metadata": {},
   "outputs": [
    {
     "data": {
      "text/plain": [
       "3"
      ]
     },
     "execution_count": 7,
     "metadata": {},
     "output_type": "execute_result"
    }
   ],
   "source": [
    "a[1]"
   ]
  },
  {
   "cell_type": "code",
   "execution_count": 1,
   "metadata": {},
   "outputs": [],
   "source": [
    "import numpy as np\n",
    "a = np.array([1, 2, 3, 5, 8])\n",
    "b = np.array([0, 3, 4, 2, 1])\n",
    "c = a + b\n",
    "c = c * a"
   ]
  },
  {
   "cell_type": "code",
   "execution_count": 2,
   "metadata": {},
   "outputs": [
    {
     "data": {
      "text/plain": [
       "21"
      ]
     },
     "execution_count": 2,
     "metadata": {},
     "output_type": "execute_result"
    }
   ],
   "source": [
    "c[2]"
   ]
  },
  {
   "cell_type": "code",
   "execution_count": 8,
   "metadata": {},
   "outputs": [],
   "source": [
    "e = np.array([[1, 2, 3], [0, 1, 4]]) # Počet prvků = 6"
   ]
  },
  {
   "cell_type": "code",
   "execution_count": 9,
   "metadata": {},
   "outputs": [
    {
     "data": {
      "text/plain": [
       "6"
      ]
     },
     "execution_count": 9,
     "metadata": {},
     "output_type": "execute_result"
    }
   ],
   "source": [
    "e.size"
   ]
  },
  {
   "cell_type": "code",
   "execution_count": 10,
   "metadata": {},
   "outputs": [
    {
     "data": {
      "text/plain": [
       "array([ 3, 12])"
      ]
     },
     "execution_count": 10,
     "metadata": {},
     "output_type": "execute_result"
    }
   ],
   "source": [
    "f = np.array([\n",
    "    [0, 1, 2], \n",
    "    [3, 4, 5]\n",
    "])\n",
    "s = f.sum(axis=1)\n",
    "s"
   ]
  },
  {
   "cell_type": "code",
   "execution_count": 22,
   "metadata": {},
   "outputs": [
    {
     "data": {
      "text/plain": [
       "array([[1, 1, 1],\n",
       "       [1, 1, 1]])"
      ]
     },
     "execution_count": 22,
     "metadata": {},
     "output_type": "execute_result"
    }
   ],
   "source": [
    "g = np.array([\n",
    "    [1, 2, 3],\n",
    "    [4, 5, 6]\n",
    "])\n",
    "np.ones_like(g)"
   ]
  },
  {
   "cell_type": "code",
   "execution_count": 24,
   "metadata": {},
   "outputs": [
    {
     "data": {
      "text/plain": [
       "array([[1., 1., 1.],\n",
       "       [1., 1., 1.],\n",
       "       [1., 1., 1.]])"
      ]
     },
     "execution_count": 24,
     "metadata": {},
     "output_type": "execute_result"
    }
   ],
   "source": [
    "True * np.ones((3,3))"
   ]
  },
  {
   "cell_type": "code",
   "execution_count": 26,
   "metadata": {},
   "outputs": [
    {
     "data": {
      "text/plain": [
       "array([[ True,  True,  True],\n",
       "       [ True,  True,  True],\n",
       "       [ True,  True,  True]])"
      ]
     },
     "execution_count": 26,
     "metadata": {},
     "output_type": "execute_result"
    }
   ],
   "source": [
    "np.repeat(True, 9).reshape(3,3)"
   ]
  },
  {
   "cell_type": "code",
   "execution_count": 28,
   "metadata": {},
   "outputs": [
    {
     "data": {
      "text/plain": [
       "array([[ True,  True,  True],\n",
       "       [ True,  True,  True],\n",
       "       [ True,  True,  True]])"
      ]
     },
     "execution_count": 28,
     "metadata": {},
     "output_type": "execute_result"
    }
   ],
   "source": [
    "np.reshape(9 * [True], (3,3))"
   ]
  },
  {
   "cell_type": "code",
   "execution_count": null,
   "metadata": {},
   "outputs": [],
   "source": []
  },
  {
   "cell_type": "code",
   "execution_count": 26,
   "metadata": {},
   "outputs": [],
   "source": [
    "#today = dt.date.today()\n",
    "#print(f'Today date: {today}')\n",
    "#print(f'Before three days date: {today - dt.timedelta(days=3)}')\n",
    "#print(f'After three days date: {today + dt.timedelta(days=3)}')"
   ]
  },
  {
   "cell_type": "code",
   "execution_count": 27,
   "metadata": {},
   "outputs": [],
   "source": [
    "# Create a boolean (True/False) mask.\n",
    "# date_mask = (dates > dt.date(1999, 12, 31)) & (dates < dt.date(2005, 1, 1)) #.dtype(int)\n",
    "\n",
    "# Boolean (True/False) mask\n",
    "# -------------------------\n",
    "# The mask is used to select values with an index  which matches a `True` in the mask e.g\n",
    "# data = np.array([_ for _ in 'abcdef'])\n",
    "# mask = np.array([True, False, True, False, True, False])\n",
    "# data[mask]\n",
    "# The result is ['a', 'c', 'e']\n",
    "\n",
    "# Integer (index) mask\n",
    "# --------------------\n",
    "# The mask is used to select values with an index  which matches a `True` in the mask e.g\n",
    "# data = np.array([_ for _ in 'abcdef'])\n",
    "# mask = np.array([0, 2, 4])\n",
    "# data[mask]\n",
    "# The result is ['a', 'c', 'e']\n",
    "\n",
    "# selected_days = dates[date_mask]\n",
    "\n",
    "# print(f'First day: {selected_days[0]} Last day: {selected_days[-1]}')"
   ]
  },
  {
   "cell_type": "code",
   "execution_count": 28,
   "metadata": {},
   "outputs": [],
   "source": [
    "# fig, ax = plt.subplots(figsize=(16, 4))\n",
    "\n",
    "# ax.set_title('Prague daily average temperature for selected days')\n",
    "# ax.set_xlabel('date')\n",
    "# ax.set_ylabel('Daily average')\n",
    "\n",
    "# ax.plot(selected_days, t_avg[date_mask])"
   ]
  }
 ],
 "metadata": {
  "kernelspec": {
   "display_name": "notes",
   "language": "python",
   "name": "notes"
  },
  "language_info": {
   "codemirror_mode": {
    "name": "ipython",
    "version": 3
   },
   "file_extension": ".py",
   "mimetype": "text/x-python",
   "name": "python",
   "nbconvert_exporter": "python",
   "pygments_lexer": "ipython3",
   "version": "3.7.3"
  }
 },
 "nbformat": 4,
 "nbformat_minor": 4
}
