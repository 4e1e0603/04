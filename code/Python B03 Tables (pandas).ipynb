{
 "cells": [
  {
   "cell_type": "markdown",
   "metadata": {},
   "source": [
    "# Pandas\n",
    "\n",
    "Knihovna Pandas slouží pro zpracování tabulkových dat, zejména těch, ketrá se celá vejdou do paměti.\n",
    "Obsahuje prívě dvě třídy s přidruženými metodami a dalšé funkce, které vám mohou pomoci s nabíráním, \n",
    "čištěním, analýzou a reportováním. Než se pustíme do detailů knihovny nastíníme si různé úlohy, \n",
    "které s balíkem pandas můžeme řešit.\n",
    "\n",
    "- Filtering\n",
    "- Merging & Joining\n",
    "- Grouping\n",
    "\n",
    "Pandas zavádí právě dvě třídy `Series` a `DataFrame` s přidruženými metodami a mnoho samostatných funkcí pro další práci s daty.\n",
    "\n",
    "## Třída `Series`\n",
    "\n",
    "Třída `Series` představuje jedno rozměrnou datovou strukturu, která obsahuje přes 300 metod.\n",
    "\n",
    "\n",
    "\n",
    "## Třída `DataFrame.`\n",
    "\n",
    "## Data Aquisition\n",
    "\n",
    "Data jsou často uložena v různých souborových formátech jako např. CSV, JSON, XML atd. Proto náš první, pokud checeme s těmito daty pracovat jako s tabulkou, je \n",
    "načíst v podobě instance třídy `Series` nebo `DataFrame`. Pro čtení nejčastěji se vyskytujících  datových formátů definuje pandas volné funkce jako např. `read_csv`.\n",
    "\n",
    "\n",
    "\n",
    "\n",
    "## Data Cleanning\n",
    "\n",
    "## Data "
   ]
  },
  {
   "cell_type": "code",
   "execution_count": null,
   "metadata": {},
   "outputs": [],
   "source": [
    "import pandas as pd\n",
    "\n",
    "data = pd.DataFrame({\n",
    "    \"year\": [2000, 2001, 2002, 2003, 2004, 2005, 2006, 2007, 2008, 2009], \n",
    "    \"temp\": [20, 21, 22, 23, 24, 25, 26, 27, 28, 29] \n",
    "})\n",
    "\n",
    "type(data)"
   ]
  },
  {
   "cell_type": "code",
   "execution_count": null,
   "metadata": {},
   "outputs": [],
   "source": [
    "data"
   ]
  },
  {
   "cell_type": "code",
   "execution_count": null,
   "metadata": {},
   "outputs": [],
   "source": [
    "data.shape"
   ]
  },
  {
   "cell_type": "markdown",
   "metadata": {},
   "source": [
    "## Load dataset from CSV file "
   ]
  },
  {
   "cell_type": "code",
   "execution_count": null,
   "metadata": {},
   "outputs": [],
   "source": [
    "data = pd.read_csv(\"clementinum.csv\")"
   ]
  },
  {
   "cell_type": "markdown",
   "metadata": {},
   "source": [
    "## `DataFrame.head()` method"
   ]
  },
  {
   "cell_type": "markdown",
   "metadata": {},
   "source": [
    "Without any parameter you get a first five records."
   ]
  },
  {
   "cell_type": "code",
   "execution_count": null,
   "metadata": {},
   "outputs": [],
   "source": [
    "data.head()"
   ]
  },
  {
   "cell_type": "markdown",
   "metadata": {},
   "source": [
    "We can specify the number of records explicitly with named `n` parameter. Above example i"
   ]
  },
  {
   "cell_type": "code",
   "execution_count": null,
   "metadata": {},
   "outputs": [],
   "source": [
    "data.head(n=1)"
   ]
  },
  {
   "cell_type": "markdown",
   "metadata": {},
   "source": [
    "Because this a first function parameter, we can simply call the method without `n`."
   ]
  },
  {
   "cell_type": "code",
   "execution_count": null,
   "metadata": {},
   "outputs": [],
   "source": [
    "data.head(1)"
   ]
  },
  {
   "cell_type": "markdown",
   "metadata": {},
   "source": [
    "## `DataFrame.tail()` method"
   ]
  },
  {
   "cell_type": "code",
   "execution_count": null,
   "metadata": {},
   "outputs": [],
   "source": [
    "# help(data.tail)"
   ]
  },
  {
   "cell_type": "code",
   "execution_count": null,
   "metadata": {},
   "outputs": [],
   "source": [
    "data.tail()"
   ]
  },
  {
   "cell_type": "markdown",
   "metadata": {},
   "source": [
    "# Descriptive statistics"
   ]
  },
  {
   "cell_type": "code",
   "execution_count": null,
   "metadata": {},
   "outputs": [],
   "source": [
    "data.hist()"
   ]
  },
  {
   "cell_type": "markdown",
   "metadata": {},
   "source": [
    "\n",
    "\n",
    "## Co je axis?\n",
    "\n",
    "## Přidej sloupec\n",
    "\n",
    "## Odeber sloupec\n",
    "\n",
    "    df.drop(\"c\", axis=1)\n",
    "    \n",
    "## Seřaď sloupce\n",
    "\n",
    "    df[[\"c3\", \"c2\", \"c1\"]] = df\n",
    "\n",
    "## Najdi řádek s daným indexem\n",
    "\n",
    "## Zjisti dimenzi\n",
    "    df.shape\n",
    "    (r, c)\n",
    "\n",
    "## Zjisti počet řádků \n",
    "    df.shape[0]\n",
    "    nebo \n",
    "    len(df)\n",
    "\n",
    "## Zjisti počet sloupců\n",
    "    df.shape[1]\n",
    " \n",
    "## Převeď řádek do seznamu\n",
    "\n",
    "## Převeď řádky do seznamu seznamů (list of lists)\n",
    "\n",
    "## Převeď sloupec do seznamu\n",
    "\n",
    "## Převeď sloupce do seznamu seznamů"
   ]
  },
  {
   "cell_type": "code",
   "execution_count": null,
   "metadata": {},
   "outputs": [],
   "source": []
  }
 ],
 "metadata": {
  "kernelspec": {
   "display_name": "notes",
   "language": "python",
   "name": "notes"
  },
  "language_info": {
   "codemirror_mode": {
    "name": "ipython",
    "version": 3
   },
   "file_extension": ".py",
   "mimetype": "text/x-python",
   "name": "python",
   "nbconvert_exporter": "python",
   "pygments_lexer": "ipython3",
   "version": "3.7.3"
  }
 },
 "nbformat": 4,
 "nbformat_minor": 4
}
