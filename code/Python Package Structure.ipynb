{
 "cells": [
  {
   "cell_type": "markdown",
   "metadata": {},
   "source": [
    "# Recomended Project Structure\n",
    "\n",
    "## Práce s projektem\n",
    "\n",
    "[IN-PROGRESS]\n",
    "\n",
    "Pokud se chystám vytvořit nějaký programový kód, musím si nejdříve položit otázku:\n",
    "\n",
    "Jde o knihovnu nebo o aplikaci.\n",
    "\n",
    "V případě že jde o knihovnu, pak uvažujeme o tom, že ji budeme zřejmě používat na více místech, proto je nutné jasně definovat její programové rozhraní. V případě Pythonu tedy na nejvyšší úrovní balíčku v souboru `__init___.py` musíme exportovat všechny proměnné, funkce případně třídy, které chceme nabídnout uživateli k použití. Toto slouží především k rychlé orientaci v balíčku a kontrolu pro vývojáře, nelze tím nahradit dokumentaci, kterou bychom měli taktéž pro veřejné funkce a třídy vytvářet.\n",
    "\n",
    "## Knihovna\n",
    "\n",
    "Každá knihovna má minimálně tyto adresáře a soubory:\n",
    "\n",
    "    {package}/\n",
    "        {package}/\n",
    "            __init__.py\n",
    "        tests/\n",
    "            test.py\n",
    "        Pipfile\n",
    "        setup.py\n",
    "\n",
    "Kde adresář a podadresář `{package}` je názvem knihovny. \n",
    "\n",
    "Pro správu virtuálních prostředí a závislostí používám nástroj `pipenv` nikoliv `pip` a textové souboy `requirements.txt` apod.\n",
    "\n",
    "Přiklad struktury projektu knihovny\n",
    "\n",
    "Knihovna s jedním hlavním balíčkem a v něm umístěným modulem.\n",
    "\n",
    "    package/\n",
    "        __init__.py\n",
    "        package/\n",
    "            __init__.py\n",
    "            module.py\n",
    "\n",
    "Nejvýše umístěný soubor `__init__.py` jen re-exportuje veřejné funkce a třídy z hlavního balíčku respektive modulu `package/module.py`.  \n",
    "    \n",
    "    from .package.module import some_function, SomeClass\n",
    "\n",
    "Pokud máme složitou adresářovou strukturu, můžeme re-exportovat funkce a třídy i v každém, abychom sami jako vývojáři nemusel psát dlouhé názvy při importu v dalších balíčcích a modulech.\n",
    "    \n",
    "    from .packa"
   ]
  },
  {
   "cell_type": "code",
   "execution_count": null,
   "metadata": {},
   "outputs": [],
   "source": []
  },
  {
   "cell_type": "code",
   "execution_count": null,
   "metadata": {},
   "outputs": [],
   "source": []
  }
 ],
 "metadata": {
  "kernelspec": {
   "display_name": "notes",
   "language": "python",
   "name": "notes"
  },
  "language_info": {
   "codemirror_mode": {
    "name": "ipython",
    "version": 3
   },
   "file_extension": ".py",
   "mimetype": "text/x-python",
   "name": "python",
   "nbconvert_exporter": "python",
   "pygments_lexer": "ipython3",
   "version": "3.7.3"
  }
 },
 "nbformat": 4,
 "nbformat_minor": 4
}
