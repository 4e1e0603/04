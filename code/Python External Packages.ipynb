{
 "cells": [
  {
   "cell_type": "markdown",
   "metadata": {},
   "source": [
    "# Python packages\n",
    "\n",
    "## General\n",
    "\n",
    "- [lazy](https://pypi.python.org/pypi/lazy)\n",
    "- [overrides](https://pypi.python.org/pypi/overrides)\n",
    "\n",
    "## Testing\n",
    "\n",
    "- [pytest](https://pypi.python.org/pypi/pytest)\n",
    "- [pytest-bdd](https://github.com/pytest-dev/pytest-bdd)\n",
    "- [pytest-benchmark](https://github.com/ionelmc/pytest-benchmark)\n",
    "\n",
    "## HTTP(s) \n",
    "\n",
    "- [requests](https://pypi.python.org/pypi/requests)\n",
    "- [httpie](https://pypi.python.org/pypi/httpie)\n",
    "- [requestium](https://github.com/tryolabs/requestium)\n",
    "\n",
    "## Parallel computing\n",
    "\n",
    "- [dask](https://github.com/dask/dask); Parallel computing with task scheduling.\n"
   ]
  },
  {
   "cell_type": "code",
   "execution_count": null,
   "metadata": {},
   "outputs": [],
   "source": []
  }
 ],
 "metadata": {
  "kernelspec": {
   "display_name": "notes",
   "language": "python",
   "name": "notes"
  },
  "language_info": {
   "codemirror_mode": {
    "name": "ipython",
    "version": 3
   },
   "file_extension": ".py",
   "mimetype": "text/x-python",
   "name": "python",
   "nbconvert_exporter": "python",
   "pygments_lexer": "ipython3",
   "version": "3.7.3"
  }
 },
 "nbformat": 4,
 "nbformat_minor": 4
}
