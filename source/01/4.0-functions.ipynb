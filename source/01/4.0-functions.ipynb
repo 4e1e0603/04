{
 "cells": [
  {
   "cell_type": "code",
   "execution_count": 1,
   "metadata": {},
   "outputs": [
    {
     "name": "stdout",
     "output_type": "stream",
     "text": [
      "ab\n",
      "ab\n",
      "3\n",
      "2\n",
      "2\n",
      "3\n",
      "4\n",
      "_______\n",
      "2\n",
      "3\n",
      "4\n"
     ]
    }
   ],
   "source": [
    "from typing import Callable\n",
    "\n",
    "\n",
    "def p() -> None:\n",
    "    \"\"\"\n",
    "    Tato funkce, nebo-li procedura nevrací žádnou hodnotu,\n",
    "     respektive vrací speciální typ `None`.\n",
    "\n",
    "     -> `None` za () je nepovinný *type hint*\n",
    "    \"\"\"\n",
    "    print(\"procedure\")\n",
    "\n",
    "\n",
    "def f1(x, y):\n",
    "    \"\"\"\n",
    "    :param x: description\n",
    "    :type  x: int\n",
    "    :param y: description\n",
    "    :type  y: int\n",
    "    \"\"\"\n",
    "    return x + y\n",
    "\n",
    "\n",
    "def f2(x: int, y: int) -> int:\n",
    "    return x + y\n",
    "\n",
    "\n",
    "def f3(f: Callable):\n",
    "    \"\"\"\n",
    "    *Function* is *first class citizen*.\n",
    "    :param f: nejaká Funkce    \n",
    "    \"\"\"\n",
    "    x = 1\n",
    "    y = 1\n",
    "    return f(x, y)\n",
    "\n",
    "\n",
    "def create_adder(incr: int):\n",
    "    def inner(x):\n",
    "        return x + incr\n",
    "\n",
    "    return inner\n",
    "\n",
    "print(f1(\"a\", \"b\")) \n",
    "print(f2(\"a\", \"b\")) \n",
    "print(f2(1, 2)) \n",
    "\n",
    "print(f3(f2)) \n",
    "\n",
    "\n",
    "add_one = create_adder(1)\n",
    "\n",
    "print( add_one(1) )\n",
    "print( add_one(2) )\n",
    "print( add_one(3) )\n",
    "\n",
    "print(\"_______\")\n",
    "\n",
    "add_two = create_adder(2)\n",
    "\n",
    "print( add_one(1) )\n",
    "print( add_one(2) )\n",
    "print( add_one(3) )\n"
   ]
  },
  {
   "cell_type": "code",
   "execution_count": null,
   "metadata": {},
   "outputs": [],
   "source": []
  },
  {
   "cell_type": "code",
   "execution_count": 14,
   "metadata": {},
   "outputs": [],
   "source": [
    "def hello(name: str) -> str:\n",
    "    return f\"Hello {name}\""
   ]
  },
  {
   "cell_type": "code",
   "execution_count": 16,
   "metadata": {},
   "outputs": [],
   "source": [
    "def say_hello(name: str) -> None:\n",
    "    print(hello(name))"
   ]
  },
  {
   "cell_type": "code",
   "execution_count": 17,
   "metadata": {},
   "outputs": [
    {
     "name": "stdout",
     "output_type": "stream",
     "text": [
      "Hello Eva\n"
     ]
    }
   ],
   "source": [
    "say_hello(\"Eva\")"
   ]
  }
 ],
 "metadata": {
  "kernelspec": {
   "display_name": "notes",
   "language": "python",
   "name": "notes"
  },
  "language_info": {
   "codemirror_mode": {
    "name": "ipython",
    "version": 3
   },
   "file_extension": ".py",
   "mimetype": "text/x-python",
   "name": "python",
   "nbconvert_exporter": "python",
   "pygments_lexer": "ipython3",
   "version": "3.7.3"
  }
 },
 "nbformat": 4,
 "nbformat_minor": 4
}
