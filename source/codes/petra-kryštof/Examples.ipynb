{
 "metadata": {
  "language_info": {
   "codemirror_mode": {
    "name": "ipython",
    "version": 3
   },
   "file_extension": ".py",
   "mimetype": "text/x-python",
   "name": "python",
   "nbconvert_exporter": "python",
   "pygments_lexer": "ipython3",
   "version": "3.10.0-final"
  },
  "orig_nbformat": 2,
  "kernelspec": {
   "name": "python3",
   "display_name": "Python 3.10.0 64-bit ('.venv')",
   "metadata": {
    "interpreter": {
     "hash": "cfd068fd9fc15069add02e94a18b4fa30e5d09f99d56b9d657c0e9b041668225"
    }
   }
  }
 },
 "nbformat": 4,
 "nbformat_minor": 2,
 "cells": [
  {
   "cell_type": "code",
   "execution_count": 91,
   "metadata": {},
   "outputs": [],
   "source": [
    "\n",
    "person_name: str= \"David Landa\"\n",
    "person_birth_date: str = \"1984-01-01\"\n",
    "\n",
    "\n",
    "David: dict = {\n",
    "    \"name\": \"David Landa\",\n",
    "    \"birth_date\": \"1984-01-01\"\n",
    "}\n",
    "\n",
    "\n",
    "def person_calculate_age(person: dict) -> None:\n",
    "    return person[\"birth_date\"]\n",
    "\n",
    "\n",
    "def person_calculate_age(**person)  -> None:\n",
    "    return birth_date\n",
    "\n",
    "\n",
    "# person_calculate_age(birth_date=David.get(\"birth_date\"))\n",
    "\n",
    "\n",
    "# def person_calculate_age(birth_date):\n",
    "#     return birth_date\n",
    " "
   ]
  },
  {
   "cell_type": "code",
   "execution_count": 92,
   "metadata": {},
   "outputs": [
    {
     "output_type": "execute_result",
     "data": {
      "text/plain": [
       "'1984-01-01'"
      ]
     },
     "metadata": {},
     "execution_count": 92
    }
   ],
   "source": [
    "class Person:\n",
    "    name: str= \"David Landa\"       # constant\n",
    "    birth_date: str = \"1984-01-01\" # constant\n",
    "\n",
    "David = Person()\n",
    "David.name\n",
    "David.birth_date\n"
   ]
  },
  {
   "cell_type": "code",
   "execution_count": 93,
   "metadata": {},
   "outputs": [
    {
     "output_type": "execute_result",
     "data": {
      "text/plain": [
       "'David'"
      ]
     },
     "metadata": {},
     "execution_count": 93
    }
   ],
   "source": [
    "\n",
    "class Person:\n",
    "    name: str = \"\"\n",
    "    birth_date: str\n",
    "\n",
    "David = Person() \n",
    "David.name = \"David\"\n",
    "David.name"
   ]
  },
  {
   "cell_type": "code",
   "execution_count": 94,
   "metadata": {},
   "outputs": [],
   "source": [
    "class Person:\n",
    "    def __init__(self, name: str, birth_date: str) -> None:\n",
    "        self.name = name\n",
    "        self.birth_date = birth_date"
   ]
  },
  {
   "cell_type": "code",
   "execution_count": 95,
   "metadata": {},
   "outputs": [
    {
     "output_type": "execute_result",
     "data": {
      "text/plain": [
       "'David Landa'"
      ]
     },
     "metadata": {},
     "execution_count": 95
    }
   ],
   "source": [
    "David = Person(name=\"David Landa\", birth_date = \"1984-01-01\")\n",
    "David.name\n"
   ]
  },
  {
   "cell_type": "code",
   "execution_count": 96,
   "metadata": {},
   "outputs": [
    {
     "output_type": "execute_result",
     "data": {
      "text/plain": [
       "'Kryštof Pešek'"
      ]
     },
     "metadata": {},
     "execution_count": 96
    }
   ],
   "source": [
    "Kryštof = Person(name=\"Kryštof Pešek\", birth_date=\"1986-01-01\")\n",
    "Kryštof.name"
   ]
  },
  {
   "cell_type": "code",
   "execution_count": 100,
   "metadata": {},
   "outputs": [],
   "source": [
    "class Person:\n",
    "    name: str = \"Person\"\n",
    "    def __init__(self, index = 1):\n",
    "        self.name = type(self).name + str(index) "
   ]
  },
  {
   "cell_type": "code",
   "execution_count": 101,
   "metadata": {},
   "outputs": [],
   "source": [
    "p1 = Person()"
   ]
  },
  {
   "cell_type": "code",
   "execution_count": 102,
   "metadata": {},
   "outputs": [
    {
     "output_type": "execute_result",
     "data": {
      "text/plain": [
       "'Person1'"
      ]
     },
     "metadata": {},
     "execution_count": 102
    }
   ],
   "source": [
    "p1.name"
   ]
  },
  {
   "cell_type": "code",
   "execution_count": 103,
   "metadata": {},
   "outputs": [
    {
     "output_type": "execute_result",
     "data": {
      "text/plain": [
       "'Person2'"
      ]
     },
     "metadata": {},
     "execution_count": 103
    }
   ],
   "source": [
    "p2 = Person(index=2)\n",
    "p2.name"
   ]
  },
  {
   "cell_type": "code",
   "execution_count": 104,
   "metadata": {},
   "outputs": [],
   "source": [
    "class Person:\n",
    "    def __init__(self, name: str) -> None:\n",
    "        if len(name.split(\" \")) != 2:\n",
    "            raise ValueError(\"Dej mi jméno a příjmení!\")\n",
    "        self.name = name "
   ]
  },
  {
   "cell_type": "code",
   "execution_count": 105,
   "metadata": {},
   "outputs": [],
   "source": [
    "Petra = Person(name=\"Petra Bučková\")"
   ]
  },
  {
   "cell_type": "code",
   "execution_count": 106,
   "metadata": {},
   "outputs": [
    {
     "output_type": "execute_result",
     "data": {
      "text/plain": [
       "'Petra Bučková'"
      ]
     },
     "metadata": {},
     "execution_count": 106
    }
   ],
   "source": [
    "Petra.name"
   ]
  },
  {
   "cell_type": "code",
   "execution_count": 107,
   "metadata": {},
   "outputs": [
    {
     "output_type": "error",
     "ename": "ValueError",
     "evalue": "Dej mi jméno a příjmení!",
     "traceback": [
      "\u001b[1;31m---------------------------------------------------------------------------\u001b[0m",
      "\u001b[1;31mValueError\u001b[0m                                Traceback (most recent call last)",
      "Input \u001b[1;32mIn [107]\u001b[0m, in \u001b[0;36m<cell line: 1>\u001b[1;34m()\u001b[0m\n\u001b[1;32m----> 1\u001b[0m Petra \u001b[38;5;241m=\u001b[39m \u001b[43mPerson\u001b[49m\u001b[43m(\u001b[49m\u001b[38;5;124;43m\"\u001b[39;49m\u001b[38;5;124;43mPetra\u001b[39;49m\u001b[38;5;124;43m\"\u001b[39;49m\u001b[43m)\u001b[49m\n",
      "Input \u001b[1;32mIn [104]\u001b[0m, in \u001b[0;36mPerson.__init__\u001b[1;34m(self, name)\u001b[0m\n\u001b[0;32m      2\u001b[0m \u001b[38;5;28;01mdef\u001b[39;00m \u001b[38;5;21m__init__\u001b[39m(\u001b[38;5;28mself\u001b[39m, name: \u001b[38;5;28mstr\u001b[39m) \u001b[38;5;241m-\u001b[39m\u001b[38;5;241m>\u001b[39m \u001b[38;5;28;01mNone\u001b[39;00m:\n\u001b[0;32m      3\u001b[0m     \u001b[38;5;28;01mif\u001b[39;00m \u001b[38;5;28mlen\u001b[39m(name\u001b[38;5;241m.\u001b[39msplit(\u001b[38;5;124m\"\u001b[39m\u001b[38;5;124m \u001b[39m\u001b[38;5;124m\"\u001b[39m)) \u001b[38;5;241m!=\u001b[39m \u001b[38;5;241m2\u001b[39m:\n\u001b[1;32m----> 4\u001b[0m         \u001b[38;5;28;01mraise\u001b[39;00m \u001b[38;5;167;01mValueError\u001b[39;00m(\u001b[38;5;124m\"\u001b[39m\u001b[38;5;124mDej mi jméno a příjmení!\u001b[39m\u001b[38;5;124m\"\u001b[39m)\n\u001b[0;32m      5\u001b[0m     \u001b[38;5;28mself\u001b[39m\u001b[38;5;241m.\u001b[39mname \u001b[38;5;241m=\u001b[39m name\n",
      "\u001b[1;31mValueError\u001b[0m: Dej mi jméno a příjmení!"
     ]
    }
   ],
   "source": [
    "Petra = Person(\"Petra\")"
   ]
  },
  {
   "cell_type": "code",
   "execution_count": 108,
   "metadata": {},
   "outputs": [],
   "source": [
    "Petra.name           # vrací hodnotu (get)\n",
    "Petra.name = \"Petra\" # nastavuje hodnotu (set)"
   ]
  },
  {
   "cell_type": "code",
   "execution_count": 109,
   "metadata": {},
   "outputs": [],
   "source": [
    "class Person:\n",
    "    def __init__(self, name: str) -> None:\n",
    "        self._validate(name)\n",
    "        self._name = name\n",
    "    \n",
    "    @property\n",
    "    def name(self) -> str:\n",
    "        return self._name\n",
    "    \n",
    "    @name.setter\n",
    "    def name(self, name) -> None:\n",
    "        self._validate(name)\n",
    "        self._name = name\n",
    "\n",
    "    def _validate(self, name) -> None:\n",
    "        if len(name.split(\" \")) != 2:\n",
    "            raise ValueError(\"Dej mi jméno a příjmení!\")\n",
    "\n"
   ]
  },
  {
   "cell_type": "code",
   "execution_count": 110,
   "metadata": {},
   "outputs": [],
   "source": [
    "Petra = Person(\"Petra Bučkova\")"
   ]
  },
  {
   "cell_type": "code",
   "execution_count": 111,
   "metadata": {},
   "outputs": [],
   "source": [
    "Petra.name\n",
    "Petra.name = \"P b\""
   ]
  },
  {
   "cell_type": "code",
   "execution_count": 122,
   "metadata": {},
   "outputs": [],
   "source": [
    "class Person:\n",
    "    \n",
    "    def __init__(self, first_name: str, last_name: str) -> None:\n",
    "        self._first_name = first_name\n",
    "        self._last_name = last_name\n",
    "\n",
    "    @property\n",
    "    def first_name(self) -> str:    \n",
    "        return self._first_name\n",
    "\n",
    "    @property\n",
    "    def last_name(self) -> str:    \n",
    "        return self._last_name\n",
    "    \n",
    "    @property\n",
    "    def full_name(self) -> str:\n",
    "        return self.first_name + \" \" + self.last_name\n"
   ]
  },
  {
   "cell_type": "code",
   "execution_count": 123,
   "metadata": {},
   "outputs": [],
   "source": [
    "Petra = Person(first_name=\"Petra\", last_name=\"Bučková\")"
   ]
  },
  {
   "cell_type": "code",
   "execution_count": 124,
   "metadata": {},
   "outputs": [
    {
     "output_type": "execute_result",
     "data": {
      "text/plain": [
       "'Bučková'"
      ]
     },
     "metadata": {},
     "execution_count": 124
    }
   ],
   "source": [
    "Petra.first_name\n",
    "Petra.last_name "
   ]
  },
  {
   "cell_type": "code",
   "execution_count": 125,
   "metadata": {},
   "outputs": [
    {
     "output_type": "execute_result",
     "data": {
      "text/plain": [
       "'Petra Bučková'"
      ]
     },
     "metadata": {},
     "execution_count": 125
    }
   ],
   "source": [
    "Petra.full_name"
   ]
  },
  {
   "cell_type": "code",
   "execution_count": 144,
   "metadata": {},
   "outputs": [
    {
     "output_type": "execute_result",
     "data": {
      "text/plain": [
       "type"
      ]
     },
     "metadata": {},
     "execution_count": 144
    }
   ],
   "source": [
    "issubclass(Person, object)\n",
    "isinstance(Petra, object)\n",
    "isinstance(Petra, (Person, object) )\n",
    "\n",
    "type(object)"
   ]
  },
  {
   "cell_type": "code",
   "execution_count": 148,
   "metadata": {},
   "outputs": [
    {
     "output_type": "execute_result",
     "data": {
      "text/plain": [
       "1"
      ]
     },
     "metadata": {},
     "execution_count": 148
    }
   ],
   "source": [
    "# TUPLE\n",
    "1, 2, 3\n",
    "(1, 2, 3)\n",
    "(1,)\n",
    "1,  \n",
    "1 # NENÍ TUPLE"
   ]
  },
  {
   "cell_type": "code",
   "execution_count": 129,
   "metadata": {},
   "outputs": [
    {
     "output_type": "execute_result",
     "data": {
      "text/plain": [
       "['__class__',\n",
       " '__delattr__',\n",
       " '__dir__',\n",
       " '__doc__',\n",
       " '__eq__',\n",
       " '__format__',\n",
       " '__ge__',\n",
       " '__getattribute__',\n",
       " '__gt__',\n",
       " '__hash__',\n",
       " '__init__',\n",
       " '__init_subclass__',\n",
       " '__le__',\n",
       " '__lt__',\n",
       " '__ne__',\n",
       " '__new__',\n",
       " '__reduce__',\n",
       " '__reduce_ex__',\n",
       " '__repr__',\n",
       " '__setattr__',\n",
       " '__sizeof__',\n",
       " '__str__',\n",
       " '__subclasshook__']"
      ]
     },
     "metadata": {},
     "execution_count": 129
    }
   ],
   "source": [
    "dir(object)"
   ]
  },
  {
   "cell_type": "code",
   "execution_count": 131,
   "metadata": {},
   "outputs": [],
   "source": [
    "a = object()\n",
    "b = object()"
   ]
  },
  {
   "cell_type": "code",
   "execution_count": 136,
   "metadata": {},
   "outputs": [
    {
     "output_type": "execute_result",
     "data": {
      "text/plain": [
       "(2409810108400, 2409810108368)"
      ]
     },
     "metadata": {},
     "execution_count": 136
    }
   ],
   "source": [
    "id(a), id(b)"
   ]
  },
  {
   "cell_type": "code",
   "execution_count": 149,
   "metadata": {},
   "outputs": [
    {
     "output_type": "execute_result",
     "data": {
      "text/plain": [
       "False"
      ]
     },
     "metadata": {},
     "execution_count": 149
    }
   ],
   "source": [
    " a == b"
   ]
  },
  {
   "cell_type": "code",
   "execution_count": 150,
   "metadata": {},
   "outputs": [
    {
     "output_type": "execute_result",
     "data": {
      "text/plain": [
       "True"
      ]
     },
     "metadata": {},
     "execution_count": 150
    }
   ],
   "source": [
    "a = object()\n",
    "b = a\n",
    "\n",
    "a == b"
   ]
  },
  {
   "cell_type": "code",
   "execution_count": 18,
   "metadata": {},
   "outputs": [],
   "source": [
    "class Point2(object):\n",
    "    def __init__(self, x: float, y: float):\n",
    "        self._x = x\n",
    "        self._y = y\n",
    "\n",
    "    @property\n",
    "    def x(self) -> float:\n",
    "        return self._x\n",
    "\n",
    "    @property\n",
    "    def y(self) -> float:\n",
    "        return self._y\n",
    "\n",
    "    def __eq__(self, that) -> bool: # == structural equality\n",
    "        # return (self.x == that.x) and (self.y == that.y)\n",
    "        return self.x, self.y == that.x, that.y\n",
    "\n",
    "    def __hash__(self) -> int:\n",
    "        ...\n",
    "\n"
   ]
  },
  {
   "cell_type": "code",
   "execution_count": 19,
   "metadata": {},
   "outputs": [
    {
     "output_type": "execute_result",
     "data": {
      "text/plain": [
       "False"
      ]
     },
     "metadata": {},
     "execution_count": 19
    }
   ],
   "source": [
    "p0 = Point2(x=0.0, y=0.0)\n",
    "p0.x, p0.y\n",
    "\n",
    "p1 = Point2(x=0.0, y=1.0)\n",
    "p1.x, p1.y\n",
    "\n",
    "p2 = Point2(0.0, 0.0)\n",
    "\n",
    "# p0 == p1\n",
    "\n",
    "p0 == p2 \n"
   ]
  },
  {
   "cell_type": "code",
   "execution_count": null,
   "metadata": {},
   "outputs": [],
   "source": []
  }
 ]
}