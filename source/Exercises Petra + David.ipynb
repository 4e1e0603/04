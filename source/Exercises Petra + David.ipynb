{
 "metadata": {
  "language_info": {
   "codemirror_mode": {
    "name": "ipython",
    "version": 3
   },
   "file_extension": ".py",
   "mimetype": "text/x-python",
   "name": "python",
   "nbconvert_exporter": "python",
   "pygments_lexer": "ipython3",
   "version": "3.10.0-final"
  },
  "orig_nbformat": 2,
  "kernelspec": {
   "name": "python3",
   "display_name": "Python 3.10.0 64-bit ('.venv')",
   "metadata": {
    "interpreter": {
     "hash": "21201a9f535ce668cfd329968d1a3ccee003a82dfd28bd813f2409a7fe5dc07d"
    }
   }
  }
 },
 "nbformat": 4,
 "nbformat_minor": 2,
 "cells": [
  {
   "cell_type": "code",
   "execution_count": 66,
   "metadata": {},
   "outputs": [],
   "source": [
    "\n",
    "# Když metoda str.find(token) najde zadaý toke pak vrací 1\n",
    "\n",
    "# The find method returns the index if a word is found. If not found, it returns -1. You can add a starting index and end index: find(query, start, end), but these parameters are optional.\n",
    "\n",
    "from typing import Optional\n",
    "\n",
    "\n",
    "def derive_text_v1(text: str) -> Optional[str]:\n",
    "    \"\"\"CHYBÍ DOKUMENTACE.\"\"\"\n",
    "\n",
    "    result = None                  # Pokud nic nenajdeme, vrátíme `None`.\n",
    "    \n",
    "    if text.find(\"ZPR\") > 0:       \n",
    "        result = \"zpravodajství\"   # Nalezeno \"ZPR\" v textu.\n",
    "\n",
    "    if text.find(\"PUB\") > 0:\n",
    "        result = \"publicistika\"   # Nalezeno \"PUB\" v textu.\n",
    "    \n",
    "    return result                  # Vracíme \"publicistika\", \"zpravodajství\" nebo `None`.\n",
    "\n",
    "\n",
    "def derive_text_v2(text: str) -> Optional[str]:\n",
    "    \"\"\"CHYBÍ DOKUMENTACE.\"\"\"    \n",
    "\n",
    "    if text.find(\"ZPR\") > 0:\n",
    "        result = \"zpravodajství\"\n",
    "\n",
    "    elif text.find(\"PUB\") > 0:\n",
    "        result = \"publicistika\"\n",
    "    \n",
    "    else:\n",
    "        result = None\n",
    "    \n",
    "    return result\n",
    "\n",
    "\n",
    "def derive_text_v3(text: str, mapping = {\"PUB\": \"publicistika\", \"ZPR\": \"zpravodajství\"}) -> Optional[str]:\n",
    "    result = None\n",
    "    for key, value in mapping.items():\n",
    "        if text.find(key) > 0:\n",
    "           result = value\n",
    "    return result\n",
    "\n",
    "\n",
    "def test_transform_text(*functions_to_test):\n",
    "    \"\"\"\n",
    "    Jednoduchá forma testů s výpisem do standardního výstupu (`stdout`).\n",
    "    \"\"\"\n",
    "    for function in functions_to_test: \n",
    "\n",
    "        status: dict[bool, str] = {\n",
    "            True: \"ANO\",\n",
    "            False: \"NE\"\n",
    "        }\n",
    "\n",
    "        # ################################################################\n",
    "        # 1. Hledáma zkratku `ZPR`.\n",
    "        # ################################################################\n",
    "        given = \"Toto je ZPR.\"\n",
    "\n",
    "        expects = \"zpravodajství\"\n",
    "        current = function(given)\n",
    "\n",
    "        # assert expects == current   # Pokud neprojde spadne to s výjimkou `AssertionError`: zkus např. `assert False` nebo `assert 1 == 2`.\n",
    "        \n",
    "        print(f\"PROŠLO TESTEM 1: { status[expects == current] }; Původní text: '{given}'; Očekávaný text: '{expects}'; Aktuální text: '{current}'\")\n",
    "\n",
    "        # ################################################################\n",
    "        # 2. Hledáme zkratku `PUB`.\n",
    "        # ################################################################\n",
    "        given = \"Toto je PUB.\"\n",
    "\n",
    "        expects = \"publicistika\"\n",
    "        current = function(given)\n",
    "\n",
    "        # assert expects == current\n",
    "\n",
    "        print(f\"PROŠLO TESTEM 2: { status[expects == current] }; Původní text: {given}; Očekávaný text: {expects}; Aktuální text: {current}\")\n",
    "\n",
    "        # ################################################################\n",
    "        # 3. Nic nenalezeno\n",
    "        # ################################################################\n",
    "        given = \"Toto je NONE\"\n",
    "        \n",
    "        expects = None\n",
    "        current = function(given)\n",
    "\n",
    "        print(f\"PROŠLO TESTEM 3: { status[expects == current] }; Původní text: {given}; Očekávaný text: {expects}; Aktuální text: {current}\")\n",
    "\n",
    "\n",
    "\n"
   ]
  },
  {
   "cell_type": "code",
   "execution_count": 67,
   "metadata": {},
   "outputs": [
    {
     "output_type": "stream",
     "name": "stdout",
     "text": [
      "PROŠLO TESTEM 1: ANO; Původní text: 'Toto je ZPR.'; Očekávaný text: 'zpravodajství'; Aktuální text: 'zpravodajství'\nPROŠLO TESTEM 2: ANO; Původní text: Toto je PUB.; Očekávaný text: publicistika; Aktuální text: publicistika\nPROŠLO TESTEM 3: ANO; Původní text: Toto je NONE; Očekávaný text: None; Aktuální text: None\nPROŠLO TESTEM 1: ANO; Původní text: 'Toto je ZPR.'; Očekávaný text: 'zpravodajství'; Aktuální text: 'zpravodajství'\nPROŠLO TESTEM 2: ANO; Původní text: Toto je PUB.; Očekávaný text: publicistika; Aktuální text: publicistika\nPROŠLO TESTEM 3: ANO; Původní text: Toto je NONE; Očekávaný text: None; Aktuální text: None\nPROŠLO TESTEM 1: ANO; Původní text: 'Toto je ZPR.'; Očekávaný text: 'zpravodajství'; Aktuální text: 'zpravodajství'\nPROŠLO TESTEM 2: ANO; Původní text: Toto je PUB.; Očekávaný text: publicistika; Aktuální text: publicistika\nPROŠLO TESTEM 3: ANO; Původní text: Toto je NONE; Očekávaný text: None; Aktuální text: None\n"
     ]
    }
   ],
   "source": [
    "test_transform_text(derive_text_v1, derive_text_v2, derive_text_v3)"
   ]
  },
  {
   "cell_type": "code",
   "execution_count": null,
   "metadata": {},
   "outputs": [],
   "source": []
  },
  {
   "cell_type": "code",
   "execution_count": null,
   "metadata": {},
   "outputs": [],
   "source": []
  }
 ]
}