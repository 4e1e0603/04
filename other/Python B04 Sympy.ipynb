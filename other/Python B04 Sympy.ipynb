{
 "cells": [
  {
   "cell_type": "code",
   "execution_count": 2,
   "metadata": {},
   "outputs": [
    {
     "name": "stdout",
     "output_type": "stream",
     "text": [
      "### Derivatives\n",
      "\\frac{d}{d x} \\frac{\\cos{\\left(x \\right)}}{\\sin{\\left(x \\right)} + 1} = - \\frac{\\sin{\\left(x \\right)}}{\\sin{\\left(x \\right)} + 1} - \\frac{\\cos^{2}{\\left(x \\right)}}{\\left(\\sin{\\left(x \\right)} + 1\\right)^{2}} \n",
      "\n",
      "\\frac{d}{d x} \\frac{\\cos{\\left(x \\right)}}{\\sin^{2}{\\left(x \\right)} + 1} = - \\frac{\\sin{\\left(x \\right)}}{\\sin^{2}{\\left(x \\right)} + 1} - \\frac{2 \\sin{\\left(x \\right)} \\cos^{2}{\\left(x \\right)}}{\\left(\\sin^{2}{\\left(x \\right)} + 1\\right)^{2}} \n",
      "\n",
      "\\frac{d}{d x} \\frac{\\cos{\\left(x \\right)}}{\\sin^{3}{\\left(x \\right)} + 1} = - \\frac{\\sin{\\left(x \\right)}}{\\sin^{3}{\\left(x \\right)} + 1} - \\frac{3 \\sin^{2}{\\left(x \\right)} \\cos^{2}{\\left(x \\right)}}{\\left(\\sin^{3}{\\left(x \\right)} + 1\\right)^{2}} \n",
      "\n",
      "\\frac{d}{d x} \\frac{\\cos{\\left(x \\right)}}{\\sin^{4}{\\left(x \\right)} + 1} = - \\frac{\\sin{\\left(x \\right)}}{\\sin^{4}{\\left(x \\right)} + 1} - \\frac{4 \\sin^{3}{\\left(x \\right)} \\cos^{2}{\\left(x \\right)}}{\\left(\\sin^{4}{\\left(x \\right)} + 1\\right)^{2}} \n",
      "\n",
      "### Integrals\n",
      "\\int x e^{x}\\, dx = \\left(x - 1\\right) e^{x} \n",
      "\n",
      "\\int x^{2} e^{2 x}\\, dx = \\frac{\\left(2 x^{2} - 2 x + 1\\right) e^{2 x}}{4} \n",
      "\n",
      "\\int x^{3} e^{3 x}\\, dx = \\frac{\\left(9 x^{3} - 9 x^{2} + 6 x - 2\\right) e^{3 x}}{27} \n",
      "\n",
      "\\int x^{4} e^{4 x}\\, dx = \\frac{\\left(32 x^{4} - 32 x^{3} + 24 x^{2} - 12 x + 3\\right) e^{4 x}}{128} \n",
      "\n"
     ]
    }
   ],
   "source": [
    "from sympy import *\n",
    "\n",
    "def derivative_table(functions, x):\n",
    "    for f in functions:\n",
    "        s = printing.latex(Eq(Derivative(f, x), diff(f, x)))\n",
    "        print(s, \"\\n\")\n",
    "\n",
    "def integral_table(functions, x):\n",
    "    for f in functions:\n",
    "        s = printing.latex(Eq(Integral(f,x), integrate(f, x)))\n",
    "        print(s, \"\\n\")\n",
    "\n",
    "var('x')\n",
    "\n",
    "print(\"### Derivatives\")\n",
    "\n",
    "derivative_table([cos(x)/(1 + sin(x)**i) for i in range(1, 5)], x)\n",
    "\n",
    "print(\"### Integrals\")\n",
    "\n",
    "integral_table([x**i * exp(i*x) for i in range(1, 5)], x)"
   ]
  },
  {
   "cell_type": "markdown",
   "metadata": {},
   "source": [
    "$\\frac{d}{d x} \\frac{\\cos{\\left(x \\right)}}{\\sin{\\left(x \\right)} + 1} = - \\frac{\\sin{\\left(x \\right)}}{\\sin{\\left(x \\right)} + 1} - \\frac{\\cos^{2}{\\left(x \\right)}}{\\left(\\sin{\\left(x \\right)} + 1\\right)^{2}} $"
   ]
  },
  {
   "cell_type": "markdown",
   "metadata": {},
   "source": [
    "$\\int x^{4} e^{4 x}\\, dx = \\frac{\\left(32 x^{4} - 32 x^{3} + 24 x^{2} - 12 x + 3\\right) e^{4 x}}{128}$"
   ]
  }
 ],
 "metadata": {
  "kernelspec": {
   "display_name": "notes",
   "language": "python",
   "name": "notes"
  },
  "language_info": {
   "codemirror_mode": {
    "name": "ipython",
    "version": 3
   },
   "file_extension": ".py",
   "mimetype": "text/x-python",
   "name": "python",
   "nbconvert_exporter": "python",
   "pygments_lexer": "ipython3",
   "version": "3.7.3"
  }
 },
 "nbformat": 4,
 "nbformat_minor": 4
}
